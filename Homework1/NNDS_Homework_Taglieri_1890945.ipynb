{
  "nbformat": 4,
  "nbformat_minor": 0,
  "metadata": {
    "colab": {
      "name": "NNDS_Homework_Taglieri_1890945.ipynb",
      "provenance": [],
      "collapsed_sections": [
        "wAEgygyPfO7b",
        "Rl9dZ3HambSz"
      ],
      "toc_visible": true
    },
    "kernelspec": {
      "name": "python3",
      "display_name": "Python 3"
    },
    "accelerator": "GPU"
  },
  "cells": [
    {
      "cell_type": "markdown",
      "metadata": {
        "id": "sdnnRxTNdyW1"
      },
      "source": [
        "# Neural Networks for Data Science Applications\n",
        "## Mid-term Homework: Implementing a custom activation function\n",
        "\n",
        "**Name**: *Alessandro Taglieri*\n",
        "\n",
        "**Matricola**: *1890945*\n",
        "\n",
        "Send the completed notebook before 03/12/2020 back to **simone.scardapane@uniroma1.it** with the object \"[NNDS] Homework_1_\\<id\\>\"."
      ]
    },
    {
      "cell_type": "code",
      "metadata": {
        "id": "PEr8qV6-nMuL"
      },
      "source": [
        "import tensorflow as tf"
      ],
      "execution_count": 1,
      "outputs": []
    },
    {
      "cell_type": "markdown",
      "metadata": {
        "id": "wAEgygyPfO7b"
      },
      "source": [
        "### Introduction\n",
        "\n",
        "The **exponential linear unit** (ELU) is an activation function defined as [1]:\n",
        "\n",
        "$$\n",
        "\\phi(x) =\n",
        "\\Biggl\\{ \n",
        "\\begin{align} \n",
        "x & \\;\\; \\text{ if } x \\ge 0 \\\\\n",
        "\\alpha \\left(\\exp\\left(x\\right)- 1\\right) & \\;\\; \\text{ otherwise } \n",
        "\\end{align}\n",
        "\\Bigr.\n",
        "\\,,\n",
        "$$\n",
        "\n",
        "where $\\alpha$ is a hyper-parameter. The function is implemented in `tf.keras.layers.ELU` (see the [documentation](https://www.tensorflow.org/api_docs/python/tf/keras/layers/ELU)).\n",
        "\n",
        "The **parametric ELU** (PELU) extends the ELU activation function as [2]:\n",
        "\n",
        "$$\n",
        "\\phi(x) =\n",
        "\\Biggl\\{ \n",
        "\\begin{align} \n",
        "\\frac{\\alpha}{\\beta}x & \\;\\; \\text{ if } x \\ge 0 \\\\\n",
        "\\alpha \\left(\\exp\\Bigl(\\frac{x}{\\beta}\\Bigr)- 1\\right) & \\;\\; \\text{ otherwise } \n",
        "\\end{align}\n",
        "\\Bigr.\n",
        "\\,,\n",
        "$$\n",
        "\n",
        "where the major difference is that $\\alpha,\\beta > 0$ are *trainable* parameters, i.e., a pair of $(\\alpha, \\beta)$ values is trained for each unit in the network."
      ]
    },
    {
      "cell_type": "markdown",
      "metadata": {
        "id": "5u4aF6Z4maHd"
      },
      "source": [
        "### Exercise 1: implement the PELU\n",
        "\n",
        "In TensorFlow, it is possible to implement new layers by subclassing `tf.keras.layers.Layer`:\n",
        "\n",
        "+ [Making new Layers and Models via subclassing](https://www.tensorflow.org/guide/keras/custom_layers_and_models)\n",
        "+ [Custom layers](https://www.tensorflow.org/tutorials/customization/custom_layers)\n",
        "+ [tf.keras.layers.Layer (documentation)](https://www.tensorflow.org/api_docs/python/tf/keras/layers/Layer)\n",
        "\n",
        "**Exercise 1**: *After carefully reading the guides*, complete the following implementation of the PELU activation function."
      ]
    },
    {
      "cell_type": "code",
      "metadata": {
        "id": "IO7YzHjjj7Z_"
      },
      "source": [
        "from tensorflow.keras.constraints import NonNeg\n",
        "from tensorflow.keras import backend as K\n",
        "\n",
        "def greater_than_zero(value):\n",
        "\teps = 1e-9\n",
        "\treturn eps + K.pow(value, 2)\n",
        " \n",
        "class PELU(tf.keras.layers.Layer):\n",
        "\n",
        "    def __init__(self, units=32):\n",
        "        super(PELU, self).__init__()\n",
        "        self.units = units\n",
        "\n",
        "    def build(self, input_shape=_):\n",
        "\n",
        "        param_init = tf.random_uniform_initializer(minval=0.1, maxval=1)\n",
        "        self.params = self.add_weight(\n",
        "            shape = (self.units, 2), \n",
        "            initializer = param_init,\n",
        "            constraint = NonNeg(), \n",
        "            dtype='float32', \n",
        "            trainable = True\n",
        "            \n",
        "        )\n",
        "        \n",
        "\n",
        "    def call(self, inputs):\n",
        "        alpha, beta = self.params[:,0], self.params[:,1]\n",
        "        first = greater_than_zero(alpha)/greater_than_zero(beta)*inputs*tf.cast(inputs>=0, dtype='float32')\n",
        "        two = greater_than_zero(alpha)*(K.exp(inputs/greater_than_zero(beta)*tf.cast(inputs<0, dtype='float32'))-1)\n",
        "        \n",
        "        return first + two\n",
        "        \n",
        "      "
      ],
      "execution_count": 27,
      "outputs": []
    },
    {
      "cell_type": "markdown",
      "metadata": {
        "id": "o8MEZxqbn8vs"
      },
      "source": [
        "**Hints for a correct implementation**:\n",
        "\n",
        "1. The layer (probably) requires two sets of trainable variables, whose shape depends on the number of units.\n",
        "2. From the definition of the PELU, $\\alpha, \\beta$ are required to be positive in order to ensure differentiability. The simplest way to handle this is to use a [constraint callable](https://www.tensorflow.org/api_docs/python/tf/keras/constraints) when creating the weight (see also the [documentation](https://www.tensorflow.org/api_docs/python/tf/keras/layers/Layer) for `add_weight`)."
      ]
    },
    {
      "cell_type": "markdown",
      "metadata": {
        "id": "-QY0TfCxo9yd"
      },
      "source": [
        "### Exercise 2: some preliminary tests\n",
        "\n",
        "To evaluate your implementation, let us start by creating a single PELU function:"
      ]
    },
    {
      "cell_type": "code",
      "metadata": {
        "id": "DFNFXarBe8DV"
      },
      "source": [
        "pelu = PELU(units=1)"
      ],
      "execution_count": 38,
      "outputs": []
    },
    {
      "cell_type": "markdown",
      "metadata": {
        "id": "RWY76mEepSgj"
      },
      "source": [
        "**Exercise 2.1**: plot the function using the skeleton code below."
      ]
    },
    {
      "cell_type": "code",
      "metadata": {
        "id": "jdK0CyscfDtC",
        "colab": {
          "base_uri": "https://localhost:8080/",
          "height": 400
        },
        "outputId": "0d69b4b1-0e67-4e6c-8cdd-b6e624c0ee8e"
      },
      "source": [
        "import matplotlib.pyplot as plt\n",
        "x_range = tf.linspace(-5, 5, 200) # An equispaced grid of 200 points in [-5, +5]\n",
        "y = pelu(x_range.numpy())\n",
        "\n",
        "plt.plot(x_range.numpy(), y.numpy())"
      ],
      "execution_count": 39,
      "outputs": [
        {
          "output_type": "stream",
          "text": [
            "WARNING:tensorflow:Layer pelu_9 is casting an input tensor from dtype float64 to the layer's dtype of float32, which is new behavior in TensorFlow 2.  The layer has dtype float32 because its dtype defaults to floatx.\n",
            "\n",
            "If you intended to run this layer in float32, you can safely ignore this warning. If in doubt, this warning is likely only an issue if you are porting a TensorFlow 1.X model to TensorFlow 2.\n",
            "\n",
            "To change all layers to have dtype float64 by default, call `tf.keras.backend.set_floatx('float64')`. To change just this layer, pass dtype='float64' to the layer constructor. If you are the author of this layer, you can disable autocasting by passing autocast=False to the base Layer constructor.\n",
            "\n"
          ],
          "name": "stdout"
        },
        {
          "output_type": "execute_result",
          "data": {
            "text/plain": [
              "[<matplotlib.lines.Line2D at 0x7f4e98185630>]"
            ]
          },
          "metadata": {
            "tags": []
          },
          "execution_count": 39
        },
        {
          "output_type": "display_data",
          "data": {
            "image/png": "[encoded data removed]",
            "text/plain": [
              "<Figure size 432x288 with 1 Axes>"
            ]
          },
          "metadata": {
            "tags": [],
            "needs_background": "light"
          }
        }
      ]
    },
    {
      "cell_type": "markdown",
      "metadata": {
        "id": "LyGIlR_aqayc"
      },
      "source": [
        "The derivative of a PELU function with respect to the $\\alpha$ parameter is given by [2]:\n",
        "\n",
        "$$\n",
        "\\frac{d\\phi(x)}{d\\alpha} =\n",
        "\\Biggl\\{ \n",
        "\\begin{align} \n",
        "\\frac{x}{\\beta} & \\;\\; \\text{ if } x \\ge 0 \\\\\n",
        " \\left(\\exp\\Bigl(\\frac{x}{\\beta}\\Bigr)- 1\\right) & \\;\\; \\text{ otherwise } \n",
        "\\end{align}\n",
        "\\Bigr.\n",
        "\\,,\n",
        "$$"
      ]
    },
    {
      "cell_type": "markdown",
      "metadata": {
        "id": "GnvkoRVAqwg1"
      },
      "source": [
        "**Exercise 2.2**: using a `tf.GradientTape` object, compute the derivative above using automatic differentiation, and check its correctness up to a certain numerical precision.\n",
        "\n",
        "**Hints for a correct implementation**:\n",
        "\n",
        "1. `tf.GradientTape` allows to compute the derivative *at a single point x*. If you prefer to avoid a loop over all possible points, consider using the `jacobian` function to obtain them in a single pass ([Advanced Automatic Differentiation](https://www.tensorflow.org/guide/advanced_autodiff)).\n",
        "2. Given two tensors x and y, a simple way to compute elementwise similarity up to a certain precision (e.g., $10^{-4}$), is given by `tf.reduce_all(tf.abs(x - y) < 1e-4)`.\n",
        "\n"
      ]
    },
    {
      "cell_type": "code",
      "metadata": {
        "id": "4KXmo6GXtAnX"
      },
      "source": [
        "# compute derivative of a pelu function with alpha given by the formula[2] and respect to beta\n",
        "def gradient(x, params):\n",
        "    alpha, beta = params[:,0], params[:,1]\n",
        "    \n",
        "    alpha_gr = tf.where(x>=0, x/beta, tf.exp(x/beta)-1)\n",
        "    beta_gr = tf.where(x>=0, -alpha/beta**2*x, -alpha*x/beta**2*tf.exp(x/beta))\n",
        "    \n",
        "    return tf.stack([alpha_gr, beta_gr], axis=1)"
      ],
      "execution_count": 5,
      "outputs": []
    },
    {
      "cell_type": "code",
      "metadata": {
        "id": "cHYPezXFi84W"
      },
      "source": [
        "#compute gradient and we'll have in output two tensor: gradient and tf_gradient that we use to computee their elemntwise similiarity\n",
        "\n",
        "with tf.GradientTape() as tape:\n",
        "    #tape.watch(x_range)\n",
        "    pelu_res = pelu(x_range)\n",
        "\n",
        "\n",
        "grad = tape.jacobian(pelu_res, pelu.params)\n",
        "\n",
        "tf_gradient = tf.reshape(grad, shape=(-1, 2))\n",
        "gradient = gradient(tf.cast(x_range, tf.float32), pelu.params)"
      ],
      "execution_count": 6,
      "outputs": []
    },
    {
      "cell_type": "code",
      "metadata": {
        "colab": {
          "base_uri": "https://localhost:8080/"
        },
        "id": "DTHw6LIjt2gz",
        "outputId": "47f82cdb-d41b-4efc-f66d-42af30106a07"
      },
      "source": [
        "#compute elementwise similarity up to a certain precision (e.g.,  (10)^−4 )\n",
        "tf.reduce_all(tf.abs(tf_gradient - gradient) < 1e-4)"
      ],
      "execution_count": 7,
      "outputs": [
        {
          "output_type": "execute_result",
          "data": {
            "text/plain": [
              "<tf.Tensor: shape=(), dtype=bool, numpy=False>"
            ]
          },
          "metadata": {
            "tags": []
          },
          "execution_count": 7
        }
      ]
    },
    {
      "cell_type": "markdown",
      "metadata": {
        "id": "fKw193iR95rB"
      },
      "source": [
        "**Exercise 2.3 (optional)**: try the same for the $\\beta$ parameter (you can check the analytical formula for the gradient in the original paper [2]). **Careful**: the equation in the original paper has a missing $h$ (thanks to Davide Aureli and Federico Siciliano for spotting this). See [the correct derivation](https://www.wolframalpha.com/input/?i=d%28a*%28exp%28h%2Fb%29-1%29%29%2Fdb) on Wolfram Alpha."
      ]
    },
    {
      "cell_type": "markdown",
      "metadata": {
        "id": "7yjnVl6Ysm7F"
      },
      "source": [
        "### Exercise 3: PELU in practice\n",
        "\n",
        "Consider a simple model built with the PELU activation function, as below."
      ]
    },
    {
      "cell_type": "code",
      "metadata": {
        "id": "HF5S67DDs7xr"
      },
      "source": [
        "import numpy as np\n",
        "from keras.models import Sequential\n",
        "from keras.layers import Dense\n",
        "\n",
        "#sequential model with Pelu\n",
        "model = tf.keras.Sequential(layers=[\n",
        "      tf.keras.layers.Dense(50),\n",
        "      PELU(50),\n",
        "      tf.keras.layers.Dense(10, activation='softmax')\n",
        "])"
      ],
      "execution_count": 8,
      "outputs": []
    },
    {
      "cell_type": "markdown",
      "metadata": {
        "id": "BvVbeTDwtdbu"
      },
      "source": [
        "**Exercise 3**: load any classification dataset, and train the model above (using either a custom training loop or `model.fit(...)`). Additionally, compare with a standard ReLU activation."
      ]
    },
    {
      "cell_type": "code",
      "metadata": {
        "id": "63Z7T0t01AD6"
      },
      "source": [
        "#we use the mnist dataset to fit and test our moddel. You can find this ddataset from the sample_data\n",
        "import pandas as pd\n",
        "train = pd.read_csv('/content/sample_data/mnist_train_small.csv', header=None)\n",
        "X_tr = train.iloc[:, 1:].values.astype('float32')\n",
        "y_tr = train.iloc[:, 0].values.reshape(-1,1).astype('float32')\n",
        "test = pd.read_csv('/content/sample_data/mnist_test.csv', header=None)\n",
        "X_tst = test.iloc[:, 1:].values.astype('float32')\n",
        "y_tst = test.iloc[:, 0].values.reshape(-1,1).astype('float32')\n"
      ],
      "execution_count": 9,
      "outputs": []
    },
    {
      "cell_type": "code",
      "metadata": {
        "id": "sRAK00XU02zU"
      },
      "source": [
        "#get train_dataset and test_dataset to use in the fit/test\n",
        "train_dataset = tf.data.Dataset.from_tensor_slices((X_tr, y_tr))\n",
        "train_dataset = train_dataset.shuffle(1000).batch(32)\n",
        "test_dataset = tf.data.Dataset.from_tensor_slices((X_tst, y_tst)).batch(32)"
      ],
      "execution_count": 10,
      "outputs": []
    },
    {
      "cell_type": "code",
      "metadata": {
        "id": "CxoAm8LS-JDD"
      },
      "source": [
        "from tensorflow.keras import optimizers\n",
        "from tensorflow.keras import losses\n",
        "#define measures that we use in the compile function\n",
        "sgd = optimizers.SGD(learning_rate=1e-3)\n",
        "cross_entropy = losses.SparseCategoricalCrossentropy()\n",
        "\n"
      ],
      "execution_count": 11,
      "outputs": []
    },
    {
      "cell_type": "code",
      "metadata": {
        "colab": {
          "base_uri": "https://localhost:8080/"
        },
        "id": "3u1IZuTx-SRh",
        "outputId": "c6672509-aade-46d4-a6ef-4daea24647ba"
      },
      "source": [
        "from time import time\n",
        "#calculate time and other paramteter  to define performances of the model. This is needed to compare model with pelu with model with relu\n",
        "model.compile(optimizer=sgd,\n",
        "              loss=cross_entropy,\n",
        "              metrics=['accuracy'])\n",
        "start_time = time()\n",
        "history_fit_pelu = model.fit(train_dataset, epochs=10)\n",
        "pelu_fit_time = time() - start_time\n",
        "\n",
        "start_time = time()\n",
        "history_eval_pelu=model.evaluate(test_dataset)\n",
        "pelu_eval_time = time() - start_time"
      ],
      "execution_count": 12,
      "outputs": [
        {
          "output_type": "stream",
          "text": [
            "Epoch 1/10\n",
            "625/625 [==============================] - 1s 2ms/step - loss: 7.8304 - accuracy: 0.4430\n",
            "Epoch 2/10\n",
            "625/625 [==============================] - 1s 2ms/step - loss: 0.7654 - accuracy: 0.7753\n",
            "Epoch 3/10\n",
            "625/625 [==============================] - 1s 2ms/step - loss: 0.5525 - accuracy: 0.8371\n",
            "Epoch 4/10\n",
            "625/625 [==============================] - 1s 2ms/step - loss: 0.4653 - accuracy: 0.8644\n",
            "Epoch 5/10\n",
            "625/625 [==============================] - 1s 2ms/step - loss: 0.4137 - accuracy: 0.8817\n",
            "Epoch 6/10\n",
            "625/625 [==============================] - 1s 2ms/step - loss: 0.3802 - accuracy: 0.8931\n",
            "Epoch 7/10\n",
            "625/625 [==============================] - 1s 2ms/step - loss: 0.3554 - accuracy: 0.8992\n",
            "Epoch 8/10\n",
            "625/625 [==============================] - 2s 2ms/step - loss: 0.3365 - accuracy: 0.9048\n",
            "Epoch 9/10\n",
            "625/625 [==============================] - 1s 2ms/step - loss: 0.3189 - accuracy: 0.9093\n",
            "Epoch 10/10\n",
            "625/625 [==============================] - 1s 2ms/step - loss: 0.3070 - accuracy: 0.9134\n",
            "313/313 [==============================] - 1s 2ms/step - loss: 0.3533 - accuracy: 0.9030\n"
          ],
          "name": "stdout"
        }
      ]
    },
    {
      "cell_type": "code",
      "metadata": {
        "colab": {
          "base_uri": "https://localhost:8080/"
        },
        "id": "jgix6eVXKizd",
        "outputId": "9ca84eb9-b2bf-45d8-9005-743613022d12"
      },
      "source": [
        "#summary of the model with pelu\n",
        "model.summary()"
      ],
      "execution_count": 13,
      "outputs": [
        {
          "output_type": "stream",
          "text": [
            "Model: \"sequential\"\n",
            "_________________________________________________________________\n",
            "Layer (type)                 Output Shape              Param #   \n",
            "=================================================================\n",
            "dense (Dense)                (None, 50)                39250     \n",
            "_________________________________________________________________\n",
            "pelu_1 (PELU)                (None, 50)                100       \n",
            "_________________________________________________________________\n",
            "dense_1 (Dense)              (None, 10)                510       \n",
            "=================================================================\n",
            "Total params: 39,860\n",
            "Trainable params: 39,860\n",
            "Non-trainable params: 0\n",
            "_________________________________________________________________\n"
          ],
          "name": "stdout"
        }
      ]
    },
    {
      "cell_type": "markdown",
      "metadata": {
        "id": "nkb3cj9r7uUH"
      },
      "source": [
        "**Exercise 3.1**: Additionally, compare with a standard ReLU activation."
      ]
    },
    {
      "cell_type": "code",
      "metadata": {
        "colab": {
          "base_uri": "https://localhost:8080/"
        },
        "id": "ZvE12JW2_FcF",
        "outputId": "4cf5ab99-d201-4fcc-e3af-d56a50c8eee4"
      },
      "source": [
        "#define model with Relu\n",
        "model_withRelu = Sequential(layers=[\n",
        "                           \n",
        "                           tf.keras.layers.Dense(50, activation='relu'),\n",
        "                           tf.keras.layers.Dense(11, activation='softmax')\n",
        "])\n",
        "#calculate time and other measures to get performances of this model during training and test\n",
        "model_withRelu.compile(optimizer=sgd,\n",
        "              loss=cross_entropy,\n",
        "              metrics=['accuracy'])\n",
        "start_time = time()\n",
        "history_fit_relu = model_withRelu.fit(train_dataset, epochs=10)\n",
        "relu_fit_time = time() - start_time\n",
        "\n",
        "start_time = time()\n",
        "history_eval_relu=model_withRelu.evaluate(test_dataset)\n",
        "relu_eval_time = time() - start_time\n",
        "\n"
      ],
      "execution_count": 14,
      "outputs": [
        {
          "output_type": "stream",
          "text": [
            "Epoch 1/10\n",
            "625/625 [==============================] - 1s 2ms/step - loss: 2.8565 - accuracy: 0.4701\n",
            "Epoch 2/10\n",
            "625/625 [==============================] - 1s 2ms/step - loss: 1.1999 - accuracy: 0.6478\n",
            "Epoch 3/10\n",
            "625/625 [==============================] - 1s 2ms/step - loss: 0.9925 - accuracy: 0.7295\n",
            "Epoch 4/10\n",
            "625/625 [==============================] - 1s 2ms/step - loss: 0.8702 - accuracy: 0.7652\n",
            "Epoch 5/10\n",
            "625/625 [==============================] - 1s 2ms/step - loss: 0.7554 - accuracy: 0.8026\n",
            "Epoch 6/10\n",
            "625/625 [==============================] - 1s 2ms/step - loss: 0.6861 - accuracy: 0.8054\n",
            "Epoch 7/10\n",
            "625/625 [==============================] - 1s 2ms/step - loss: 0.6222 - accuracy: 0.8142\n",
            "Epoch 8/10\n",
            "625/625 [==============================] - 1s 2ms/step - loss: 0.5542 - accuracy: 0.8439\n",
            "Epoch 9/10\n",
            "625/625 [==============================] - 1s 2ms/step - loss: 0.4875 - accuracy: 0.8594\n",
            "Epoch 10/10\n",
            "625/625 [==============================] - 1s 2ms/step - loss: 0.4405 - accuracy: 0.8697\n",
            "313/313 [==============================] - 0s 2ms/step - loss: 0.6191 - accuracy: 0.8574\n"
          ],
          "name": "stdout"
        }
      ]
    },
    {
      "cell_type": "code",
      "metadata": {
        "colab": {
          "base_uri": "https://localhost:8080/"
        },
        "id": "KELEf_3-J2cn",
        "outputId": "5b666237-8b72-487c-d8d2-dd45367f7783"
      },
      "source": [
        "#summary of the model with Relu\n",
        "model_withRelu.summary()"
      ],
      "execution_count": 15,
      "outputs": [
        {
          "output_type": "stream",
          "text": [
            "Model: \"sequential_1\"\n",
            "_________________________________________________________________\n",
            "Layer (type)                 Output Shape              Param #   \n",
            "=================================================================\n",
            "dense_2 (Dense)              (None, 50)                39250     \n",
            "_________________________________________________________________\n",
            "dense_3 (Dense)              (None, 11)                561       \n",
            "=================================================================\n",
            "Total params: 39,811\n",
            "Trainable params: 39,811\n",
            "Non-trainable params: 0\n",
            "_________________________________________________________________\n"
          ],
          "name": "stdout"
        }
      ]
    },
    {
      "cell_type": "code",
      "metadata": {
        "id": "6dATmuwk9hSo"
      },
      "source": [
        "#simple function that calculate the average from the list\n",
        "def average(lst): \n",
        "    return sum(lst) / len(lst) "
      ],
      "execution_count": 16,
      "outputs": []
    },
    {
      "cell_type": "markdown",
      "metadata": {
        "id": "BLVqKRj76VIZ"
      },
      "source": [
        "Compare two models"
      ]
    },
    {
      "cell_type": "code",
      "metadata": {
        "id": "j4ZqWAKr6SpE"
      },
      "source": [
        "#we put all measures that we obtained for both model in a dataframe. §in this way we can see the differences.\n",
        "data = [{'fit time': pelu_fit_time, 'eval time': pelu_eval_time, 'mean accuracy':average(history_fit_pelu.history['accuracy']),'mean loss':average(history_fit_pelu.history['loss']),'test_loss':history_eval_pelu[0],'test_acc':history_eval_pelu[1]},\n",
        "        {'fit time': relu_fit_time, 'eval time': relu_eval_time, 'mean accuracy':average(history_fit_relu.history['accuracy']),'mean loss':average(history_fit_relu.history['loss']),'test_loss':history_eval_relu[0],'test_acc':history_eval_relu[1]}\n",
        "        \n",
        "        ] \n",
        "performances = pd.DataFrame(data, index = ['Pelu','Relu']) "
      ],
      "execution_count": 17,
      "outputs": []
    },
    {
      "cell_type": "code",
      "metadata": {
        "colab": {
          "base_uri": "https://localhost:8080/",
          "height": 109
        },
        "id": "jWTCnKQv8euS",
        "outputId": "a90c876b-d1c7-42c2-cc95-0ef2806cef6c"
      },
      "source": [
        "performances"
      ],
      "execution_count": 18,
      "outputs": [
        {
          "output_type": "execute_result",
          "data": {
            "text/html": [
              "<div>\n",
              "<style scoped>\n",
              "    .dataframe tbody tr th:only-of-type {\n",
              "        vertical-align: middle;\n",
              "    }\n",
              "\n",
              "    .dataframe tbody tr th {\n",
              "        vertical-align: top;\n",
              "    }\n",
              "\n",
              "    .dataframe thead th {\n",
              "        text-align: right;\n",
              "    }\n",
              "</style>\n",
              "<table border=\"1\" class=\"dataframe\">\n",
              "  <thead>\n",
              "    <tr style=\"text-align: right;\">\n",
              "      <th></th>\n",
              "      <th>fit time</th>\n",
              "      <th>eval time</th>\n",
              "      <th>mean accuracy</th>\n",
              "      <th>mean loss</th>\n",
              "      <th>test_loss</th>\n",
              "      <th>test_acc</th>\n",
              "    </tr>\n",
              "  </thead>\n",
              "  <tbody>\n",
              "    <tr>\n",
              "      <th>Pelu</th>\n",
              "      <td>15.656992</td>\n",
              "      <td>0.776146</td>\n",
              "      <td>0.832125</td>\n",
              "      <td>1.172545</td>\n",
              "      <td>0.353307</td>\n",
              "      <td>0.9030</td>\n",
              "    </tr>\n",
              "    <tr>\n",
              "      <th>Relu</th>\n",
              "      <td>12.463586</td>\n",
              "      <td>0.606503</td>\n",
              "      <td>0.760770</td>\n",
              "      <td>0.946515</td>\n",
              "      <td>0.619113</td>\n",
              "      <td>0.8574</td>\n",
              "    </tr>\n",
              "  </tbody>\n",
              "</table>\n",
              "</div>"
            ],
            "text/plain": [
              "       fit time  eval time  mean accuracy  mean loss  test_loss  test_acc\n",
              "Pelu  15.656992   0.776146       0.832125   1.172545   0.353307    0.9030\n",
              "Relu  12.463586   0.606503       0.760770   0.946515   0.619113    0.8574"
            ]
          },
          "metadata": {
            "tags": []
          },
          "execution_count": 18
        }
      ]
    },
    {
      "cell_type": "code",
      "metadata": {
        "colab": {
          "base_uri": "https://localhost:8080/",
          "height": 296
        },
        "id": "OD_K6ogEZGLe",
        "outputId": "ebbb48e0-53d4-4e15-91e6-01a68ac2fe9a"
      },
      "source": [
        "#plot acuracy during training\n",
        "import matplotlib.pyplot as plt\n",
        "plt.plot(history_fit_relu.history['accuracy'],label='relu')\n",
        "plt.plot(history_fit_pelu.history['accuracy'],label='pelu')\n",
        "plt.title('accuracy')\n",
        "plt.legend()"
      ],
      "execution_count": 19,
      "outputs": [
        {
          "output_type": "execute_result",
          "data": {
            "text/plain": [
              "<matplotlib.legend.Legend at 0x7f4e985bd390>"
            ]
          },
          "metadata": {
            "tags": []
          },
          "execution_count": 19
        },
        {
          "output_type": "display_data",
          "data": {
            "image/png": "[encoded data removed]",
            "text/plain": [
              "<Figure size 432x288 with 1 Axes>"
            ]
          },
          "metadata": {
            "tags": [],
            "needs_background": "light"
          }
        }
      ]
    },
    {
      "cell_type": "markdown",
      "metadata": {
        "id": "mv76cGntc_vM"
      },
      "source": [
        "**Considerations:**\n",
        "From the results we can see that the training time in PELU is higher than the fit time in Relu, because the computation for the PELU is higher. Than we can notice that the accuracy on the test set is higher than the accuracy that we had during evaluation in Relu\n"
      ]
    },
    {
      "cell_type": "markdown",
      "metadata": {
        "id": "pEjaJQT06jh9"
      },
      "source": [
        "TensorFlow has several options for saving or loading objects from the disk:\n",
        "\n",
        "1. [Save and load Keras models](https://www.tensorflow.org/guide/keras/save_and_serialize/)\n",
        "\n",
        "In many cases, custom classes require the implementation of a `get_config` / `from_config` functions to define the serialization behaviour.\n",
        "\n",
        "**Exercise 4 (optional)**: implement the `get_config` method and test your implementation as below (taken from the guide on saving and loading models)."
      ]
    },
    {
      "cell_type": "code",
      "metadata": {
        "id": "voxx7kntvM0W"
      },
      "source": [
        "\n",
        "#model.save('pelu_model2')\n",
        "#del PELU # This is needed to remove any reference to PELU from memory\n",
        "#reloaded_model = tf.keras.models.load_model('pelu_model2')\n"
      ],
      "execution_count": 20,
      "outputs": []
    },
    {
      "cell_type": "code",
      "metadata": {
        "id": "838PN8xN0rIW"
      },
      "source": [
        "\n",
        "#print(\"Original model:\", model)\n",
        "#print(\"Loaded model:\", reloaded_model) # Observe that the object has been dynamically recreated in absence of the configuration options"
      ],
      "execution_count": 21,
      "outputs": []
    },
    {
      "cell_type": "markdown",
      "metadata": {
        "id": "FcpgUDLqDYcZ"
      },
      "source": [
        "Implementation af The PELU layer with get_config and from_config methods.\n"
      ]
    },
    {
      "cell_type": "code",
      "metadata": {
        "id": "n_qsU5TUDXhE"
      },
      "source": [
        "\n",
        "class PELU(tf.keras.layers.Layer):\n",
        "\n",
        "    def __init__(self, units=32):\n",
        "        super(PELU, self).__init__()\n",
        "        self.units = units\n",
        "\n",
        "    def build(self, input_shape=_):\n",
        "\n",
        "        param_init = tf.random_uniform_initializer(minval=0.1, maxval=1)\n",
        "        self.params = self.add_weight(\n",
        "            shape = (self.units, 2), \n",
        "            initializer = param_init, \n",
        "            trainable = True, \n",
        "            constraint = NonNeg(), \n",
        "            dtype='float32'\n",
        "        )\n",
        "\n",
        "    def call(self, inputs):\n",
        "        alpha, beta = self.params[:,0], self.params[:,1]\n",
        "        pos = (greater_than_zero(alpha) / greater_than_zero(beta)) * tf.keras.activations.relu(inputs)\n",
        "        neg = greater_than_zero(alpha) * (K.exp((-tf.keras.activations.relu(-inputs)) / greater_than_zero(beta)) - 1)\n",
        "\n",
        "        return pos + neg\n",
        "\n",
        "    def get_config(self):\n",
        "        config = super(PELU, self).get_config()\n",
        "      \n",
        "        return {\"units\": self.units}\n",
        "\n",
        "    @classmethod\n",
        "    def from_config(cls, config):\n",
        "        return cls(**config)"
      ],
      "execution_count": 22,
      "outputs": []
    },
    {
      "cell_type": "code",
      "metadata": {
        "colab": {
          "base_uri": "https://localhost:8080/"
        },
        "id": "-MUz6jJODjNC",
        "outputId": "235bfe70-7186-4eb7-c37f-20ef05903cc9"
      },
      "source": [
        "model = Sequential(layers=[\n",
        "                           tf.keras.layers.Dense(50),\n",
        "                           PELU(50),\n",
        "                           tf.keras.layers.Dense(11, activation='softmax')\n",
        "])\n",
        "\n",
        "model.compile(optimizer=sgd,\n",
        "              loss=cross_entropy,\n",
        "              metrics=['accuracy'])\n",
        "model.fit(train_dataset, epochs=10)\n",
        "model.evaluate(test_dataset)"
      ],
      "execution_count": 23,
      "outputs": [
        {
          "output_type": "stream",
          "text": [
            "Epoch 1/10\n",
            "625/625 [==============================] - 1s 2ms/step - loss: 32996298.0000 - accuracy: 0.5658\n",
            "Epoch 2/10\n",
            "625/625 [==============================] - 1s 2ms/step - loss: 0.7754 - accuracy: 0.7643\n",
            "Epoch 3/10\n",
            "625/625 [==============================] - 1s 2ms/step - loss: 0.5761 - accuracy: 0.8367\n",
            "Epoch 4/10\n",
            "625/625 [==============================] - 2s 3ms/step - loss: 0.4625 - accuracy: 0.8664\n",
            "Epoch 5/10\n",
            "625/625 [==============================] - 2s 3ms/step - loss: 0.3994 - accuracy: 0.8830\n",
            "Epoch 6/10\n",
            "625/625 [==============================] - 2s 2ms/step - loss: 0.3616 - accuracy: 0.8946\n",
            "Epoch 7/10\n",
            "625/625 [==============================] - 2s 3ms/step - loss: 0.3344 - accuracy: 0.9039\n",
            "Epoch 8/10\n",
            "625/625 [==============================] - 2s 3ms/step - loss: 0.3152 - accuracy: 0.9080\n",
            "Epoch 9/10\n",
            "625/625 [==============================] - 2s 3ms/step - loss: 0.3006 - accuracy: 0.9125\n",
            "Epoch 10/10\n",
            "625/625 [==============================] - 2s 2ms/step - loss: 0.2878 - accuracy: 0.9155\n",
            "313/313 [==============================] - 1s 2ms/step - loss: 0.3194 - accuracy: 0.9080\n"
          ],
          "name": "stdout"
        },
        {
          "output_type": "execute_result",
          "data": {
            "text/plain": [
              "[0.31942495703697205, 0.9079999923706055]"
            ]
          },
          "metadata": {
            "tags": []
          },
          "execution_count": 23
        }
      ]
    },
    {
      "cell_type": "code",
      "metadata": {
        "colab": {
          "base_uri": "https://localhost:8080/"
        },
        "id": "7LiWV4zRFlkR",
        "outputId": "1f945cbb-f79e-431f-a062-070b5339e99e"
      },
      "source": [
        "model.summary()"
      ],
      "execution_count": 24,
      "outputs": [
        {
          "output_type": "stream",
          "text": [
            "Model: \"sequential_2\"\n",
            "_________________________________________________________________\n",
            "Layer (type)                 Output Shape              Param #   \n",
            "=================================================================\n",
            "dense_4 (Dense)              (None, 50)                39250     \n",
            "_________________________________________________________________\n",
            "pelu_2 (PELU)                (None, 50)                100       \n",
            "_________________________________________________________________\n",
            "dense_5 (Dense)              (None, 11)                561       \n",
            "=================================================================\n",
            "Total params: 39,911\n",
            "Trainable params: 39,911\n",
            "Non-trainable params: 0\n",
            "_________________________________________________________________\n"
          ],
          "name": "stdout"
        }
      ]
    },
    {
      "cell_type": "code",
      "metadata": {
        "colab": {
          "base_uri": "https://localhost:8080/"
        },
        "id": "7NCk7o_IEDOk",
        "outputId": "048b708d-2da6-4e26-c01a-5a32126d7d34"
      },
      "source": [
        "config = model.get_config()\n",
        "new_model = tf.keras.Sequential.from_config(config, custom_objects={'PELU': PELU})\n",
        "\n",
        "new_model.summary()"
      ],
      "execution_count": 25,
      "outputs": [
        {
          "output_type": "stream",
          "text": [
            "Model: \"sequential_2\"\n",
            "_________________________________________________________________\n",
            "Layer (type)                 Output Shape              Param #   \n",
            "=================================================================\n",
            "dense_4 (Dense)              (None, 50)                39250     \n",
            "_________________________________________________________________\n",
            "pelu_3 (PELU)                (None, 50)                100       \n",
            "_________________________________________________________________\n",
            "dense_5 (Dense)              (None, 11)                561       \n",
            "=================================================================\n",
            "Total params: 39,911\n",
            "Trainable params: 39,911\n",
            "Non-trainable params: 0\n",
            "_________________________________________________________________\n"
          ],
          "name": "stdout"
        }
      ]
    },
    {
      "cell_type": "markdown",
      "metadata": {
        "id": "Rl9dZ3HambSz"
      },
      "source": [
        "### References\n",
        "\n",
        "[1] Clevert, D.A., Unterthiner, T. and Hochreiter, S., 2015. [Fast and accurate deep network learning by exponential linear units (ELUs)](https://arxiv.org/abs/1511.07289). arXiv preprint arXiv:1511.07289.\n",
        "\n",
        "[2] Trottier, L., Gigu, P. and Chaib-draa, B., 2017. [Parametric exponential linear unit for deep convolutional neural networks](https://arxiv.org/abs/1605.09332). In 2017 16th IEEE International Conference on Machine Learning and Applications (ICMLA) (pp. 207-214). IEEE."
      ]
    }
  ]
}